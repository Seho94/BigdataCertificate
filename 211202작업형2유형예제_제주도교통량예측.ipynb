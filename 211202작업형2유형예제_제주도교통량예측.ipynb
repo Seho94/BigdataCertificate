{
 "cells": [
  {
   "cell_type": "code",
   "execution_count": 1,
   "id": "d69a1a46",
   "metadata": {},
   "outputs": [],
   "source": [
    "import pandas as pd\n",
    "pd.options.display.float_format = '{:.4f}'.format\n",
    "\n",
    "train_X = pd.read_csv(\"https://raw.githubusercontent.com/Datamanim/jeju/main/Jeju_trainX.csv\",encoding='euc-kr')\n",
    "train_y = pd.read_csv(\"https://raw.githubusercontent.com/Datamanim/jeju/main/Jeju_trainy.csv\",encoding='euc-kr')\n",
    "test_X = pd.read_csv(\"https://raw.githubusercontent.com/Datamanim/jeju/main/Jeju_testX.csv\",encoding='euc-kr')\n",
    "sub = pd.read_csv(\"https://raw.githubusercontent.com/Datamanim/jeju/main/subExample.csv\",encoding='euc-kr')"
   ]
  },
  {
   "cell_type": "code",
   "execution_count": 2,
   "id": "da1c6d6c",
   "metadata": {},
   "outputs": [
    {
     "data": {
      "text/html": [
       "<div>\n",
       "<style scoped>\n",
       "    .dataframe tbody tr th:only-of-type {\n",
       "        vertical-align: middle;\n",
       "    }\n",
       "\n",
       "    .dataframe tbody tr th {\n",
       "        vertical-align: top;\n",
       "    }\n",
       "\n",
       "    .dataframe thead th {\n",
       "        text-align: right;\n",
       "    }\n",
       "</style>\n",
       "<table border=\"1\" class=\"dataframe\">\n",
       "  <thead>\n",
       "    <tr style=\"text-align: right;\">\n",
       "      <th></th>\n",
       "      <th>id</th>\n",
       "      <th>일자</th>\n",
       "      <th>시도명</th>\n",
       "      <th>읍면동명</th>\n",
       "      <th>거주인구</th>\n",
       "      <th>근무인구</th>\n",
       "      <th>방문인구</th>\n",
       "      <th>총 유동인구</th>\n",
       "      <th>평균 속도</th>\n",
       "      <th>평균 소요 시간</th>\n",
       "      <th>평균 기온</th>\n",
       "      <th>일강수량</th>\n",
       "      <th>평균 풍속</th>\n",
       "    </tr>\n",
       "  </thead>\n",
       "  <tbody>\n",
       "    <tr>\n",
       "      <th>0</th>\n",
       "      <td>0</td>\n",
       "      <td>2018-01-01</td>\n",
       "      <td>서귀포시</td>\n",
       "      <td>남원읍</td>\n",
       "      <td>291408.8970</td>\n",
       "      <td>18744.1310</td>\n",
       "      <td>219588.8570</td>\n",
       "      <td>529741.8840</td>\n",
       "      <td>53.0000</td>\n",
       "      <td>40.5710</td>\n",
       "      <td>2.3500</td>\n",
       "      <td>0.0000</td>\n",
       "      <td>3.3250</td>\n",
       "    </tr>\n",
       "    <tr>\n",
       "      <th>1</th>\n",
       "      <td>1</td>\n",
       "      <td>2018-01-01</td>\n",
       "      <td>제주시</td>\n",
       "      <td>노형동</td>\n",
       "      <td>1215420.2480</td>\n",
       "      <td>74964.8580</td>\n",
       "      <td>445735.3290</td>\n",
       "      <td>1736120.4350</td>\n",
       "      <td>38.5630</td>\n",
       "      <td>30.6550</td>\n",
       "      <td>-2.3000</td>\n",
       "      <td>0.0000</td>\n",
       "      <td>1.1000</td>\n",
       "    </tr>\n",
       "    <tr>\n",
       "      <th>2</th>\n",
       "      <td>2</td>\n",
       "      <td>2018-01-01</td>\n",
       "      <td>제주시</td>\n",
       "      <td>구좌읍</td>\n",
       "      <td>276220.0230</td>\n",
       "      <td>17542.1050</td>\n",
       "      <td>248104.1220</td>\n",
       "      <td>541866.2500</td>\n",
       "      <td>53.1880</td>\n",
       "      <td>40.7190</td>\n",
       "      <td>5.9000</td>\n",
       "      <td>0.0000</td>\n",
       "      <td>4.1000</td>\n",
       "    </tr>\n",
       "  </tbody>\n",
       "</table>\n",
       "</div>"
      ],
      "text/plain": [
       "   id          일자   시도명 읍면동명         거주인구       근무인구        방문인구       총 유동인구  \\\n",
       "0   0  2018-01-01  서귀포시  남원읍  291408.8970 18744.1310 219588.8570  529741.8840   \n",
       "1   1  2018-01-01   제주시  노형동 1215420.2480 74964.8580 445735.3290 1736120.4350   \n",
       "2   2  2018-01-01   제주시  구좌읍  276220.0230 17542.1050 248104.1220  541866.2500   \n",
       "\n",
       "    평균 속도  평균 소요 시간   평균 기온   일강수량  평균 풍속  \n",
       "0 53.0000   40.5710  2.3500 0.0000 3.3250  \n",
       "1 38.5630   30.6550 -2.3000 0.0000 1.1000  \n",
       "2 53.1880   40.7190  5.9000 0.0000 4.1000  "
      ]
     },
     "execution_count": 2,
     "metadata": {},
     "output_type": "execute_result"
    }
   ],
   "source": [
    "train_X.head(3)"
   ]
  },
  {
   "cell_type": "code",
   "execution_count": 3,
   "id": "ed22acda",
   "metadata": {},
   "outputs": [
    {
     "data": {
      "text/html": [
       "<div>\n",
       "<style scoped>\n",
       "    .dataframe tbody tr th:only-of-type {\n",
       "        vertical-align: middle;\n",
       "    }\n",
       "\n",
       "    .dataframe tbody tr th {\n",
       "        vertical-align: top;\n",
       "    }\n",
       "\n",
       "    .dataframe thead th {\n",
       "        text-align: right;\n",
       "    }\n",
       "</style>\n",
       "<table border=\"1\" class=\"dataframe\">\n",
       "  <thead>\n",
       "    <tr style=\"text-align: right;\">\n",
       "      <th></th>\n",
       "      <th>id</th>\n",
       "      <th>교통량</th>\n",
       "    </tr>\n",
       "  </thead>\n",
       "  <tbody>\n",
       "    <tr>\n",
       "      <th>0</th>\n",
       "      <td>0</td>\n",
       "      <td>76.2000</td>\n",
       "    </tr>\n",
       "    <tr>\n",
       "      <th>1</th>\n",
       "      <td>1</td>\n",
       "      <td>1291.1840</td>\n",
       "    </tr>\n",
       "    <tr>\n",
       "      <th>2</th>\n",
       "      <td>2</td>\n",
       "      <td>0.0000</td>\n",
       "    </tr>\n",
       "  </tbody>\n",
       "</table>\n",
       "</div>"
      ],
      "text/plain": [
       "   id       교통량\n",
       "0   0   76.2000\n",
       "1   1 1291.1840\n",
       "2   2    0.0000"
      ]
     },
     "execution_count": 3,
     "metadata": {},
     "output_type": "execute_result"
    }
   ],
   "source": [
    "train_y.head(3)"
   ]
  },
  {
   "cell_type": "code",
   "execution_count": 4,
   "id": "cd4be7bd",
   "metadata": {},
   "outputs": [
    {
     "data": {
      "text/html": [
       "<div>\n",
       "<style scoped>\n",
       "    .dataframe tbody tr th:only-of-type {\n",
       "        vertical-align: middle;\n",
       "    }\n",
       "\n",
       "    .dataframe tbody tr th {\n",
       "        vertical-align: top;\n",
       "    }\n",
       "\n",
       "    .dataframe thead th {\n",
       "        text-align: right;\n",
       "    }\n",
       "</style>\n",
       "<table border=\"1\" class=\"dataframe\">\n",
       "  <thead>\n",
       "    <tr style=\"text-align: right;\">\n",
       "      <th></th>\n",
       "      <th>id</th>\n",
       "      <th>교통량</th>\n",
       "    </tr>\n",
       "  </thead>\n",
       "  <tbody>\n",
       "    <tr>\n",
       "      <th>count</th>\n",
       "      <td>22448.0000</td>\n",
       "      <td>22448.0000</td>\n",
       "    </tr>\n",
       "    <tr>\n",
       "      <th>mean</th>\n",
       "      <td>11223.5000</td>\n",
       "      <td>374.6524</td>\n",
       "    </tr>\n",
       "    <tr>\n",
       "      <th>std</th>\n",
       "      <td>6480.3238</td>\n",
       "      <td>532.7097</td>\n",
       "    </tr>\n",
       "    <tr>\n",
       "      <th>min</th>\n",
       "      <td>0.0000</td>\n",
       "      <td>0.0000</td>\n",
       "    </tr>\n",
       "    <tr>\n",
       "      <th>25%</th>\n",
       "      <td>5611.7500</td>\n",
       "      <td>0.0000</td>\n",
       "    </tr>\n",
       "    <tr>\n",
       "      <th>50%</th>\n",
       "      <td>11223.5000</td>\n",
       "      <td>42.8245</td>\n",
       "    </tr>\n",
       "    <tr>\n",
       "      <th>75%</th>\n",
       "      <td>16835.2500</td>\n",
       "      <td>640.5845</td>\n",
       "    </tr>\n",
       "    <tr>\n",
       "      <th>max</th>\n",
       "      <td>22447.0000</td>\n",
       "      <td>2301.5000</td>\n",
       "    </tr>\n",
       "  </tbody>\n",
       "</table>\n",
       "</div>"
      ],
      "text/plain": [
       "              id        교통량\n",
       "count 22448.0000 22448.0000\n",
       "mean  11223.5000   374.6524\n",
       "std    6480.3238   532.7097\n",
       "min       0.0000     0.0000\n",
       "25%    5611.7500     0.0000\n",
       "50%   11223.5000    42.8245\n",
       "75%   16835.2500   640.5845\n",
       "max   22447.0000  2301.5000"
      ]
     },
     "execution_count": 4,
     "metadata": {},
     "output_type": "execute_result"
    }
   ],
   "source": [
    "train_y.describe()"
   ]
  },
  {
   "cell_type": "code",
   "execution_count": 5,
   "id": "1c144288",
   "metadata": {},
   "outputs": [
    {
     "data": {
      "text/plain": [
       "id    -1.2000\n",
       "교통량    0.8404\n",
       "dtype: float64"
      ]
     },
     "execution_count": 5,
     "metadata": {},
     "output_type": "execute_result"
    }
   ],
   "source": [
    "train_y.kurtosis()"
   ]
  },
  {
   "cell_type": "code",
   "execution_count": 6,
   "id": "05bb80d7",
   "metadata": {},
   "outputs": [
    {
     "data": {
      "text/html": [
       "<div>\n",
       "<style scoped>\n",
       "    .dataframe tbody tr th:only-of-type {\n",
       "        vertical-align: middle;\n",
       "    }\n",
       "\n",
       "    .dataframe tbody tr th {\n",
       "        vertical-align: top;\n",
       "    }\n",
       "\n",
       "    .dataframe thead th {\n",
       "        text-align: right;\n",
       "    }\n",
       "</style>\n",
       "<table border=\"1\" class=\"dataframe\">\n",
       "  <thead>\n",
       "    <tr style=\"text-align: right;\">\n",
       "      <th></th>\n",
       "      <th>id</th>\n",
       "      <th>일자</th>\n",
       "      <th>시도명</th>\n",
       "      <th>읍면동명</th>\n",
       "      <th>거주인구</th>\n",
       "      <th>근무인구</th>\n",
       "      <th>방문인구</th>\n",
       "      <th>총 유동인구</th>\n",
       "      <th>평균 속도</th>\n",
       "      <th>평균 소요 시간</th>\n",
       "      <th>평균 기온</th>\n",
       "      <th>일강수량</th>\n",
       "      <th>평균 풍속</th>\n",
       "    </tr>\n",
       "  </thead>\n",
       "  <tbody>\n",
       "    <tr>\n",
       "      <th>0</th>\n",
       "      <td>0</td>\n",
       "      <td>2018-01-01</td>\n",
       "      <td>서귀포시</td>\n",
       "      <td>남원읍</td>\n",
       "      <td>291408.8970</td>\n",
       "      <td>18744.1310</td>\n",
       "      <td>219588.8570</td>\n",
       "      <td>529741.8840</td>\n",
       "      <td>53.0000</td>\n",
       "      <td>40.5710</td>\n",
       "      <td>2.3500</td>\n",
       "      <td>0.0000</td>\n",
       "      <td>3.3250</td>\n",
       "    </tr>\n",
       "    <tr>\n",
       "      <th>1</th>\n",
       "      <td>1</td>\n",
       "      <td>2018-01-01</td>\n",
       "      <td>제주시</td>\n",
       "      <td>노형동</td>\n",
       "      <td>1215420.2480</td>\n",
       "      <td>74964.8580</td>\n",
       "      <td>445735.3290</td>\n",
       "      <td>1736120.4350</td>\n",
       "      <td>38.5630</td>\n",
       "      <td>30.6550</td>\n",
       "      <td>-2.3000</td>\n",
       "      <td>0.0000</td>\n",
       "      <td>1.1000</td>\n",
       "    </tr>\n",
       "    <tr>\n",
       "      <th>2</th>\n",
       "      <td>2</td>\n",
       "      <td>2018-01-01</td>\n",
       "      <td>제주시</td>\n",
       "      <td>구좌읍</td>\n",
       "      <td>276220.0230</td>\n",
       "      <td>17542.1050</td>\n",
       "      <td>248104.1220</td>\n",
       "      <td>541866.2500</td>\n",
       "      <td>53.1880</td>\n",
       "      <td>40.7190</td>\n",
       "      <td>5.9000</td>\n",
       "      <td>0.0000</td>\n",
       "      <td>4.1000</td>\n",
       "    </tr>\n",
       "  </tbody>\n",
       "</table>\n",
       "</div>"
      ],
      "text/plain": [
       "   id          일자   시도명 읍면동명         거주인구       근무인구        방문인구       총 유동인구  \\\n",
       "0   0  2018-01-01  서귀포시  남원읍  291408.8970 18744.1310 219588.8570  529741.8840   \n",
       "1   1  2018-01-01   제주시  노형동 1215420.2480 74964.8580 445735.3290 1736120.4350   \n",
       "2   2  2018-01-01   제주시  구좌읍  276220.0230 17542.1050 248104.1220  541866.2500   \n",
       "\n",
       "    평균 속도  평균 소요 시간   평균 기온   일강수량  평균 풍속  \n",
       "0 53.0000   40.5710  2.3500 0.0000 3.3250  \n",
       "1 38.5630   30.6550 -2.3000 0.0000 1.1000  \n",
       "2 53.1880   40.7190  5.9000 0.0000 4.1000  "
      ]
     },
     "execution_count": 6,
     "metadata": {},
     "output_type": "execute_result"
    }
   ],
   "source": [
    "train_X.head(3)"
   ]
  },
  {
   "cell_type": "code",
   "execution_count": 7,
   "id": "aeb987d9",
   "metadata": {},
   "outputs": [
    {
     "data": {
      "text/html": [
       "<div>\n",
       "<style scoped>\n",
       "    .dataframe tbody tr th:only-of-type {\n",
       "        vertical-align: middle;\n",
       "    }\n",
       "\n",
       "    .dataframe tbody tr th {\n",
       "        vertical-align: top;\n",
       "    }\n",
       "\n",
       "    .dataframe thead th {\n",
       "        text-align: right;\n",
       "    }\n",
       "</style>\n",
       "<table border=\"1\" class=\"dataframe\">\n",
       "  <thead>\n",
       "    <tr style=\"text-align: right;\">\n",
       "      <th></th>\n",
       "      <th>count</th>\n",
       "      <th>mean</th>\n",
       "      <th>std</th>\n",
       "      <th>min</th>\n",
       "      <th>25%</th>\n",
       "      <th>50%</th>\n",
       "      <th>75%</th>\n",
       "      <th>max</th>\n",
       "    </tr>\n",
       "  </thead>\n",
       "  <tbody>\n",
       "    <tr>\n",
       "      <th>id</th>\n",
       "      <td>22448.0000</td>\n",
       "      <td>11223.5000</td>\n",
       "      <td>6480.3238</td>\n",
       "      <td>0.0000</td>\n",
       "      <td>5611.7500</td>\n",
       "      <td>11223.5000</td>\n",
       "      <td>16835.2500</td>\n",
       "      <td>22447.0000</td>\n",
       "    </tr>\n",
       "    <tr>\n",
       "      <th>거주인구</th>\n",
       "      <td>22448.0000</td>\n",
       "      <td>317555.6997</td>\n",
       "      <td>298149.3833</td>\n",
       "      <td>10327.2590</td>\n",
       "      <td>94704.3245</td>\n",
       "      <td>221927.8885</td>\n",
       "      <td>410097.9040</td>\n",
       "      <td>1353560.5100</td>\n",
       "    </tr>\n",
       "    <tr>\n",
       "      <th>근무인구</th>\n",
       "      <td>22448.0000</td>\n",
       "      <td>35805.0281</td>\n",
       "      <td>40815.6840</td>\n",
       "      <td>1172.4480</td>\n",
       "      <td>12221.8195</td>\n",
       "      <td>21765.3370</td>\n",
       "      <td>40316.8758</td>\n",
       "      <td>272224.9300</td>\n",
       "    </tr>\n",
       "    <tr>\n",
       "      <th>방문인구</th>\n",
       "      <td>22448.0000</td>\n",
       "      <td>196133.7483</td>\n",
       "      <td>140600.5987</td>\n",
       "      <td>10788.3810</td>\n",
       "      <td>100005.0448</td>\n",
       "      <td>153158.8325</td>\n",
       "      <td>235928.0675</td>\n",
       "      <td>786387.1130</td>\n",
       "    </tr>\n",
       "    <tr>\n",
       "      <th>총 유동인구</th>\n",
       "      <td>22448.0000</td>\n",
       "      <td>549494.4760</td>\n",
       "      <td>461167.8723</td>\n",
       "      <td>22288.0880</td>\n",
       "      <td>222836.3663</td>\n",
       "      <td>389458.4280</td>\n",
       "      <td>641293.4193</td>\n",
       "      <td>2079277.8900</td>\n",
       "    </tr>\n",
       "    <tr>\n",
       "      <th>평균 속도</th>\n",
       "      <td>22448.0000</td>\n",
       "      <td>41.1016</td>\n",
       "      <td>8.7083</td>\n",
       "      <td>23.5450</td>\n",
       "      <td>34.2690</td>\n",
       "      <td>39.6515</td>\n",
       "      <td>49.1013</td>\n",
       "      <td>95.0000</td>\n",
       "    </tr>\n",
       "    <tr>\n",
       "      <th>평균 소요 시간</th>\n",
       "      <td>22448.0000</td>\n",
       "      <td>37.2217</td>\n",
       "      <td>12.9745</td>\n",
       "      <td>12.6670</td>\n",
       "      <td>27.8890</td>\n",
       "      <td>34.5000</td>\n",
       "      <td>46.1910</td>\n",
       "      <td>135.4000</td>\n",
       "    </tr>\n",
       "    <tr>\n",
       "      <th>평균 기온</th>\n",
       "      <td>22448.0000</td>\n",
       "      <td>13.5346</td>\n",
       "      <td>7.7496</td>\n",
       "      <td>-11.6000</td>\n",
       "      <td>7.6000</td>\n",
       "      <td>13.3000</td>\n",
       "      <td>19.7330</td>\n",
       "      <td>30.4000</td>\n",
       "    </tr>\n",
       "    <tr>\n",
       "      <th>일강수량</th>\n",
       "      <td>22448.0000</td>\n",
       "      <td>7.4018</td>\n",
       "      <td>28.8538</td>\n",
       "      <td>0.0000</td>\n",
       "      <td>0.0000</td>\n",
       "      <td>0.0000</td>\n",
       "      <td>1.5000</td>\n",
       "      <td>583.5000</td>\n",
       "    </tr>\n",
       "    <tr>\n",
       "      <th>평균 풍속</th>\n",
       "      <td>22448.0000</td>\n",
       "      <td>2.7382</td>\n",
       "      <td>1.4689</td>\n",
       "      <td>0.0000</td>\n",
       "      <td>1.7500</td>\n",
       "      <td>2.4000</td>\n",
       "      <td>3.4000</td>\n",
       "      <td>17.7000</td>\n",
       "    </tr>\n",
       "  </tbody>\n",
       "</table>\n",
       "</div>"
      ],
      "text/plain": [
       "              count        mean         std        min         25%  \\\n",
       "id       22448.0000  11223.5000   6480.3238     0.0000   5611.7500   \n",
       "거주인구     22448.0000 317555.6997 298149.3833 10327.2590  94704.3245   \n",
       "근무인구     22448.0000  35805.0281  40815.6840  1172.4480  12221.8195   \n",
       "방문인구     22448.0000 196133.7483 140600.5987 10788.3810 100005.0448   \n",
       "총 유동인구   22448.0000 549494.4760 461167.8723 22288.0880 222836.3663   \n",
       "평균 속도    22448.0000     41.1016      8.7083    23.5450     34.2690   \n",
       "평균 소요 시간 22448.0000     37.2217     12.9745    12.6670     27.8890   \n",
       "평균 기온    22448.0000     13.5346      7.7496   -11.6000      7.6000   \n",
       "일강수량     22448.0000      7.4018     28.8538     0.0000      0.0000   \n",
       "평균 풍속    22448.0000      2.7382      1.4689     0.0000      1.7500   \n",
       "\n",
       "                 50%         75%          max  \n",
       "id        11223.5000  16835.2500   22447.0000  \n",
       "거주인구     221927.8885 410097.9040 1353560.5100  \n",
       "근무인구      21765.3370  40316.8758  272224.9300  \n",
       "방문인구     153158.8325 235928.0675  786387.1130  \n",
       "총 유동인구   389458.4280 641293.4193 2079277.8900  \n",
       "평균 속도        39.6515     49.1013      95.0000  \n",
       "평균 소요 시간     34.5000     46.1910     135.4000  \n",
       "평균 기온        13.3000     19.7330      30.4000  \n",
       "일강수량          0.0000      1.5000     583.5000  \n",
       "평균 풍속         2.4000      3.4000      17.7000  "
      ]
     },
     "execution_count": 7,
     "metadata": {},
     "output_type": "execute_result"
    }
   ],
   "source": [
    "train_X.describe().T"
   ]
  },
  {
   "cell_type": "code",
   "execution_count": 8,
   "id": "010824c9",
   "metadata": {},
   "outputs": [],
   "source": [
    "full = train_X.merge(train_y, on='id')\n",
    "full.set_index('id', inplace=True)\n",
    "full.drop(['일자','읍면동명'], axis=1, inplace=True)"
   ]
  },
  {
   "cell_type": "code",
   "execution_count": 9,
   "id": "95825f70",
   "metadata": {},
   "outputs": [],
   "source": [
    "full['시도명'] = pd.factorize(full['시도명'])[0]"
   ]
  },
  {
   "cell_type": "code",
   "execution_count": 10,
   "id": "b28cd028",
   "metadata": {},
   "outputs": [],
   "source": [
    "from sklearn.model_selection import StratifiedShuffleSplit\n",
    "\n",
    "split = StratifiedShuffleSplit(n_splits=1, test_size=0.2, random_state=156)\n",
    "for tr_idx, te_idx in split.split(full, full['시도명']):\n",
    "    s_train = full.loc[tr_idx]\n",
    "    s_test = full.loc[te_idx]"
   ]
  },
  {
   "cell_type": "code",
   "execution_count": 11,
   "id": "f0191444",
   "metadata": {},
   "outputs": [],
   "source": [
    "x_train, y_train = s_train.drop('교통량', axis=1), s_train['교통량']\n",
    "x_val, y_val = s_test.drop('교통량', axis=1), s_test['교통량']"
   ]
  },
  {
   "cell_type": "code",
   "execution_count": 37,
   "id": "ea021018",
   "metadata": {},
   "outputs": [
    {
     "data": {
      "text/plain": [
       "XGBRegressor(base_score=0.5, booster='gbtree', colsample_bylevel=1,\n",
       "             colsample_bynode=1, colsample_bytree=1, gamma=0, gpu_id=-1,\n",
       "             importance_type='gain', interaction_constraints='',\n",
       "             learning_rate=0.300000012, max_delta_step=0, max_depth=6,\n",
       "             min_child_weight=1, missing=nan, monotone_constraints='()',\n",
       "             n_estimators=100, n_jobs=8, num_parallel_tree=1, random_state=156,\n",
       "             reg_alpha=0, reg_lambda=1, scale_pos_weight=1, subsample=1,\n",
       "             tree_method='exact', validate_parameters=1, verbosity=None)"
      ]
     },
     "execution_count": 37,
     "metadata": {},
     "output_type": "execute_result"
    }
   ],
   "source": [
    "from sklearn.ensemble import RandomForestRegressor\n",
    "from sklearn.linear_model import LinearRegression, Ridge, Lasso\n",
    "from sklearn.tree import DecisionTreeRegressor\n",
    "import xgboost as XGB\n",
    "\n",
    "rf = RandomForestRegressor(random_state=156)\n",
    "dt = DecisionTreeRegressor(random_state=156)\n",
    "lr = LinearRegression()\n",
    "ridge = Ridge()\n",
    "lasso = Lasso()\n",
    "xgb = XGB.XGBRegressor(random_state=156)\n",
    "\n",
    "rf.fit(x_train, y_train)\n",
    "dt.fit(x_train, y_train)\n",
    "lr.fit(x_train, y_train)\n",
    "ridge.fit(x_train, y_train)\n",
    "lasso.fit(x_train, y_train)\n",
    "xgb.fit(x_train, y_train)"
   ]
  },
  {
   "cell_type": "code",
   "execution_count": 13,
   "id": "e34ac7bc",
   "metadata": {},
   "outputs": [
    {
     "name": "stdout",
     "output_type": "stream",
     "text": [
      "9747.953804701032\n",
      "19604.46923710824\n",
      "195388.39208310342\n",
      "195458.5125212764\n",
      "195465.25363975647\n",
      "12489.983347468782\n"
     ]
    }
   ],
   "source": [
    "rf_pred = rf.predict(x_val)\n",
    "dt_pred = dt.predict(x_val)\n",
    "lr_pred = lr.predict(x_val)\n",
    "ridge_pred = ridge.predict(x_val)\n",
    "lasso_pred = lasso.predict(x_val)\n",
    "xgb_pred = xgb.predict(x_val)\n",
    "\n",
    "from sklearn.metrics import mean_squared_error\n",
    "\n",
    "print(mean_squared_error(y_val, rf_pred))\n",
    "print(mean_squared_error(y_val, dt_pred))\n",
    "print(mean_squared_error(y_val, lr_pred))\n",
    "print(mean_squared_error(y_val, ridge_pred))\n",
    "print(mean_squared_error(y_val, lasso_pred))\n",
    "print(mean_squared_error(y_val, xgb_pred))"
   ]
  },
  {
   "cell_type": "markdown",
   "id": "500a7947",
   "metadata": {},
   "source": [
    "선형회귀모델들은 효과가 없다.  \n",
    "추가 EDA 시행 후 비선형 모델들로만 적용하여 성능 추가 테스트"
   ]
  },
  {
   "cell_type": "code",
   "execution_count": 14,
   "id": "9d75182e",
   "metadata": {},
   "outputs": [
    {
     "data": {
      "text/plain": [
       "set()"
      ]
     },
     "execution_count": 14,
     "metadata": {},
     "output_type": "execute_result"
    }
   ],
   "source": [
    "set()"
   ]
  },
  {
   "cell_type": "code",
   "execution_count": 15,
   "id": "beda920c",
   "metadata": {},
   "outputs": [],
   "source": [
    "full = train_X.merge(train_y, on='id')"
   ]
  },
  {
   "cell_type": "code",
   "execution_count": 16,
   "id": "8bd0d50a",
   "metadata": {},
   "outputs": [],
   "source": [
    "full['시도명'] = full['시도명'].factorize()[0]"
   ]
  },
  {
   "cell_type": "code",
   "execution_count": 17,
   "id": "5ae8e79d",
   "metadata": {},
   "outputs": [],
   "source": [
    "tmp = full.groupby(['읍면동명']).median()['교통량'].reset_index()\n",
    "# full['읍면동별 평균 교통량'] = full.merge(on='')\n",
    "tmp.columns = ['읍면동명',' 읍면동명별 교통량median']\n",
    "full = full.merge(tmp, on='읍면동명')"
   ]
  },
  {
   "cell_type": "code",
   "execution_count": 18,
   "id": "87adcfcd",
   "metadata": {},
   "outputs": [
    {
     "data": {
      "text/html": [
       "<div>\n",
       "<style scoped>\n",
       "    .dataframe tbody tr th:only-of-type {\n",
       "        vertical-align: middle;\n",
       "    }\n",
       "\n",
       "    .dataframe tbody tr th {\n",
       "        vertical-align: top;\n",
       "    }\n",
       "\n",
       "    .dataframe thead th {\n",
       "        text-align: right;\n",
       "    }\n",
       "</style>\n",
       "<table border=\"1\" class=\"dataframe\">\n",
       "  <thead>\n",
       "    <tr style=\"text-align: right;\">\n",
       "      <th></th>\n",
       "      <th>id</th>\n",
       "      <th>일자</th>\n",
       "      <th>시도명</th>\n",
       "      <th>읍면동명</th>\n",
       "      <th>거주인구</th>\n",
       "      <th>근무인구</th>\n",
       "      <th>방문인구</th>\n",
       "      <th>총 유동인구</th>\n",
       "      <th>평균 속도</th>\n",
       "      <th>평균 소요 시간</th>\n",
       "      <th>평균 기온</th>\n",
       "      <th>일강수량</th>\n",
       "      <th>평균 풍속</th>\n",
       "      <th>교통량</th>\n",
       "      <th>읍면동명별 교통량median</th>\n",
       "    </tr>\n",
       "  </thead>\n",
       "  <tbody>\n",
       "    <tr>\n",
       "      <th>0</th>\n",
       "      <td>0</td>\n",
       "      <td>2018-01-01</td>\n",
       "      <td>0</td>\n",
       "      <td>남원읍</td>\n",
       "      <td>291408.8970</td>\n",
       "      <td>18744.1310</td>\n",
       "      <td>219588.8570</td>\n",
       "      <td>529741.8840</td>\n",
       "      <td>53.0000</td>\n",
       "      <td>40.5710</td>\n",
       "      <td>2.3500</td>\n",
       "      <td>0.0000</td>\n",
       "      <td>3.3250</td>\n",
       "      <td>76.2000</td>\n",
       "      <td>69.1000</td>\n",
       "    </tr>\n",
       "    <tr>\n",
       "      <th>1</th>\n",
       "      <td>76</td>\n",
       "      <td>2018-01-03</td>\n",
       "      <td>0</td>\n",
       "      <td>남원읍</td>\n",
       "      <td>287121.5060</td>\n",
       "      <td>27767.0750</td>\n",
       "      <td>181151.4350</td>\n",
       "      <td>496040.0160</td>\n",
       "      <td>52.3710</td>\n",
       "      <td>41.5140</td>\n",
       "      <td>3.5750</td>\n",
       "      <td>0.0000</td>\n",
       "      <td>3.9250</td>\n",
       "      <td>73.9710</td>\n",
       "      <td>69.1000</td>\n",
       "    </tr>\n",
       "    <tr>\n",
       "      <th>2</th>\n",
       "      <td>97</td>\n",
       "      <td>2018-01-04</td>\n",
       "      <td>0</td>\n",
       "      <td>남원읍</td>\n",
       "      <td>279036.1040</td>\n",
       "      <td>27045.9870</td>\n",
       "      <td>188198.6470</td>\n",
       "      <td>494280.7380</td>\n",
       "      <td>52.1430</td>\n",
       "      <td>41.5140</td>\n",
       "      <td>3.2000</td>\n",
       "      <td>1.6250</td>\n",
       "      <td>2.4500</td>\n",
       "      <td>70.2860</td>\n",
       "      <td>69.1000</td>\n",
       "    </tr>\n",
       "  </tbody>\n",
       "</table>\n",
       "</div>"
      ],
      "text/plain": [
       "   id          일자  시도명 읍면동명        거주인구       근무인구        방문인구      총 유동인구  \\\n",
       "0   0  2018-01-01    0  남원읍 291408.8970 18744.1310 219588.8570 529741.8840   \n",
       "1  76  2018-01-03    0  남원읍 287121.5060 27767.0750 181151.4350 496040.0160   \n",
       "2  97  2018-01-04    0  남원읍 279036.1040 27045.9870 188198.6470 494280.7380   \n",
       "\n",
       "    평균 속도  평균 소요 시간  평균 기온   일강수량  평균 풍속     교통량   읍면동명별 교통량median  \n",
       "0 53.0000   40.5710 2.3500 0.0000 3.3250 76.2000           69.1000  \n",
       "1 52.3710   41.5140 3.5750 0.0000 3.9250 73.9710           69.1000  \n",
       "2 52.1430   41.5140 3.2000 1.6250 2.4500 70.2860           69.1000  "
      ]
     },
     "execution_count": 18,
     "metadata": {},
     "output_type": "execute_result"
    }
   ],
   "source": [
    "full.head(3)"
   ]
  },
  {
   "cell_type": "code",
   "execution_count": 19,
   "id": "528ef65e",
   "metadata": {},
   "outputs": [],
   "source": [
    "full['date_월'] = full['일자'].apply(lambda x: x[5:7])"
   ]
  },
  {
   "cell_type": "code",
   "execution_count": 20,
   "id": "d0349261",
   "metadata": {},
   "outputs": [],
   "source": [
    "tmp = full.groupby('date_월')['교통량'].median().reset_index()\n",
    "tmp.columns = ['date_월',' 월별 교통량median']\n",
    "full = full.merge(tmp, on='date_월')"
   ]
  },
  {
   "cell_type": "code",
   "execution_count": 21,
   "id": "cdcdd2bd",
   "metadata": {},
   "outputs": [],
   "source": [
    "full.drop(['일자', '읍면동명', 'date_월'], axis=1, inplace=True)"
   ]
  },
  {
   "cell_type": "code",
   "execution_count": 22,
   "id": "b22b25e6",
   "metadata": {},
   "outputs": [],
   "source": [
    "full.set_index('id', inplace=True)"
   ]
  },
  {
   "cell_type": "code",
   "execution_count": 23,
   "id": "70b76fb2",
   "metadata": {},
   "outputs": [],
   "source": [
    "full = full.sort_values(by='id')"
   ]
  },
  {
   "cell_type": "code",
   "execution_count": 33,
   "id": "d88d752d",
   "metadata": {},
   "outputs": [],
   "source": [
    "tmp = full[['거주인구', '근무인구','방문인구','총 유동인구', '평균 속도', '평균 소요 시간', '평균 기온', '일강수량','평균 풍속']]\n",
    "\n",
    "from sklearn.preprocessing import StandardScaler\n",
    "\n",
    "scaler = StandardScaler()\n",
    "full[tmp.columns] = pd.DataFrame(scaler.fit_transform(tmp), columns=tmp.columns)"
   ]
  },
  {
   "cell_type": "code",
   "execution_count": 34,
   "id": "b31b3aac",
   "metadata": {},
   "outputs": [],
   "source": [
    "from sklearn.model_selection import StratifiedShuffleSplit\n",
    "\n",
    "split = StratifiedShuffleSplit(n_splits=1, test_size=0.2, random_state=156)\n",
    "for tr_idx, te_idx in split.split(full, full['시도명']):\n",
    "    s_train = full.loc[tr_idx]\n",
    "    s_test = full.loc[te_idx]"
   ]
  },
  {
   "cell_type": "code",
   "execution_count": 36,
   "id": "15c6696e",
   "metadata": {},
   "outputs": [],
   "source": [
    "x_train, y_train = s_train.drop('교통량', axis=1), s_train['교통량']\n",
    "x_val, y_val = s_test.drop('교통량', axis=1), s_test['교통량']"
   ]
  },
  {
   "cell_type": "code",
   "execution_count": 39,
   "id": "f623ac28",
   "metadata": {},
   "outputs": [],
   "source": [
    "from sklearn.ensemble import GradientBoostingRegressor"
   ]
  },
  {
   "cell_type": "code",
   "execution_count": 40,
   "id": "29d7448e",
   "metadata": {},
   "outputs": [
    {
     "name": "stdout",
     "output_type": "stream",
     "text": [
      "8055.646566553097\n",
      "17287.485601449887\n",
      "25043.565497056614\n",
      "25044.431248859484\n",
      "25040.16632080349\n",
      "9006.522257998558\n",
      "14350.862302826028\n"
     ]
    }
   ],
   "source": [
    "rf = RandomForestRegressor(random_state=156)\n",
    "dt = DecisionTreeRegressor(random_state=156)\n",
    "lr = LinearRegression()\n",
    "ridge = Ridge()\n",
    "lasso = Lasso()\n",
    "xgb = XGB.XGBRegressor(random_state=156)\n",
    "gbm = GradientBoostingRegressor(random_state=156)\n",
    "\n",
    "rf.fit(x_train, y_train)\n",
    "dt.fit(x_train, y_train)\n",
    "lr.fit(x_train, y_train)\n",
    "ridge.fit(x_train, y_train)\n",
    "lasso.fit(x_train, y_train)\n",
    "xgb.fit(x_train, y_train)\n",
    "gbm.fit(x_train, y_train)\n",
    "\n",
    "rf_pred = rf.predict(x_val)\n",
    "dt_pred = dt.predict(x_val)\n",
    "lr_pred = lr.predict(x_val)\n",
    "ridge_pred = ridge.predict(x_val)\n",
    "lasso_pred = lasso.predict(x_val)\n",
    "xgb_pred = xgb.predict(x_val)\n",
    "gbm_pred = gbm.predict(x_val)\n",
    "\n",
    "from sklearn.metrics import mean_squared_error\n",
    "\n",
    "print(mean_squared_error(y_val, rf_pred))\n",
    "print(mean_squared_error(y_val, dt_pred))\n",
    "print(mean_squared_error(y_val, lr_pred))\n",
    "print(mean_squared_error(y_val, ridge_pred))\n",
    "print(mean_squared_error(y_val, lasso_pred))\n",
    "print(mean_squared_error(y_val, xgb_pred))\n",
    "print(mean_squared_error(y_val, gbm_pred))"
   ]
  }
 ],
 "metadata": {
  "kernelspec": {
   "display_name": "Python 3",
   "language": "python",
   "name": "python3"
  },
  "language_info": {
   "codemirror_mode": {
    "name": "ipython",
    "version": 3
   },
   "file_extension": ".py",
   "mimetype": "text/x-python",
   "name": "python",
   "nbconvert_exporter": "python",
   "pygments_lexer": "ipython3",
   "version": "3.8.8"
  }
 },
 "nbformat": 4,
 "nbformat_minor": 5
}
