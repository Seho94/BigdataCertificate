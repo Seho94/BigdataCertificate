{
 "cells": [
  {
   "cell_type": "code",
   "execution_count": 37,
   "id": "244ff596",
   "metadata": {},
   "outputs": [
    {
     "data": {
      "text/html": [
       "<div>\n",
       "<style scoped>\n",
       "    .dataframe tbody tr th:only-of-type {\n",
       "        vertical-align: middle;\n",
       "    }\n",
       "\n",
       "    .dataframe tbody tr th {\n",
       "        vertical-align: top;\n",
       "    }\n",
       "\n",
       "    .dataframe thead th {\n",
       "        text-align: right;\n",
       "    }\n",
       "</style>\n",
       "<table border=\"1\" class=\"dataframe\">\n",
       "  <thead>\n",
       "    <tr style=\"text-align: right;\">\n",
       "      <th></th>\n",
       "      <th>Name</th>\n",
       "      <th>Platform</th>\n",
       "      <th>Year_of_Release</th>\n",
       "      <th>Genre</th>\n",
       "      <th>Publisher</th>\n",
       "      <th>NA_Sales</th>\n",
       "      <th>EU_Sales</th>\n",
       "      <th>JP_Sales</th>\n",
       "      <th>Other_Sales</th>\n",
       "      <th>Global_Sales</th>\n",
       "      <th>Critic_Score</th>\n",
       "      <th>Critic_Count</th>\n",
       "      <th>User_Score</th>\n",
       "      <th>User_Count</th>\n",
       "      <th>Developer</th>\n",
       "      <th>Rating</th>\n",
       "      <th>Year_of_ten</th>\n",
       "    </tr>\n",
       "  </thead>\n",
       "  <tbody>\n",
       "    <tr>\n",
       "      <th>0</th>\n",
       "      <td>Wii Sports</td>\n",
       "      <td>Wii</td>\n",
       "      <td>2006.0</td>\n",
       "      <td>Sports</td>\n",
       "      <td>Nintendo</td>\n",
       "      <td>41.36</td>\n",
       "      <td>28.96</td>\n",
       "      <td>3.77</td>\n",
       "      <td>8.45</td>\n",
       "      <td>82.53</td>\n",
       "      <td>76.0</td>\n",
       "      <td>51.0</td>\n",
       "      <td>8.0</td>\n",
       "      <td>322.0</td>\n",
       "      <td>Nintendo</td>\n",
       "      <td>E</td>\n",
       "      <td>2000.0</td>\n",
       "    </tr>\n",
       "    <tr>\n",
       "      <th>1</th>\n",
       "      <td>Mario Kart Wii</td>\n",
       "      <td>Wii</td>\n",
       "      <td>2008.0</td>\n",
       "      <td>Racing</td>\n",
       "      <td>Nintendo</td>\n",
       "      <td>15.68</td>\n",
       "      <td>12.76</td>\n",
       "      <td>3.79</td>\n",
       "      <td>3.29</td>\n",
       "      <td>35.52</td>\n",
       "      <td>82.0</td>\n",
       "      <td>73.0</td>\n",
       "      <td>8.3</td>\n",
       "      <td>709.0</td>\n",
       "      <td>Nintendo</td>\n",
       "      <td>E</td>\n",
       "      <td>2000.0</td>\n",
       "    </tr>\n",
       "    <tr>\n",
       "      <th>2</th>\n",
       "      <td>Wii Sports Resort</td>\n",
       "      <td>Wii</td>\n",
       "      <td>2009.0</td>\n",
       "      <td>Sports</td>\n",
       "      <td>Nintendo</td>\n",
       "      <td>15.61</td>\n",
       "      <td>10.93</td>\n",
       "      <td>3.28</td>\n",
       "      <td>2.95</td>\n",
       "      <td>32.77</td>\n",
       "      <td>80.0</td>\n",
       "      <td>73.0</td>\n",
       "      <td>8.0</td>\n",
       "      <td>192.0</td>\n",
       "      <td>Nintendo</td>\n",
       "      <td>E</td>\n",
       "      <td>2000.0</td>\n",
       "    </tr>\n",
       "  </tbody>\n",
       "</table>\n",
       "</div>"
      ],
      "text/plain": [
       "                Name Platform  Year_of_Release   Genre Publisher  NA_Sales  \\\n",
       "0         Wii Sports      Wii           2006.0  Sports  Nintendo     41.36   \n",
       "1     Mario Kart Wii      Wii           2008.0  Racing  Nintendo     15.68   \n",
       "2  Wii Sports Resort      Wii           2009.0  Sports  Nintendo     15.61   \n",
       "\n",
       "   EU_Sales  JP_Sales  Other_Sales  Global_Sales  Critic_Score  Critic_Count  \\\n",
       "0     28.96      3.77         8.45         82.53          76.0          51.0   \n",
       "1     12.76      3.79         3.29         35.52          82.0          73.0   \n",
       "2     10.93      3.28         2.95         32.77          80.0          73.0   \n",
       "\n",
       "   User_Score  User_Count Developer Rating  Year_of_ten  \n",
       "0         8.0       322.0  Nintendo      E       2000.0  \n",
       "1         8.3       709.0  Nintendo      E       2000.0  \n",
       "2         8.0       192.0  Nintendo      E       2000.0  "
      ]
     },
     "execution_count": 37,
     "metadata": {},
     "output_type": "execute_result"
    }
   ],
   "source": [
    "import pandas as pd\n",
    "pd.set_option('display.max_rows', 100)\n",
    "pd.set_option('display.max_columns', 100)\n",
    "df = pd.read_csv(\"https://raw.githubusercontent.com/Datamanim/video/master/video_games_sale.csv\", index_col=0)\n",
    "df.head(3)"
   ]
  },
  {
   "cell_type": "markdown",
   "id": "f1582a59",
   "metadata": {},
   "source": [
    "### video_games_sales 데이터셋(video_games_sales.csv)의 출시년도(Year_of_Release) 컬럼을 10년단위(ex 1990~1999 : 1990)로 변환하여 새로운 컬럼(year_of_ten)에 추가하고 게임이 가장 많이 출시된 년도(10년단위)와 가장 적게 출시된 년도(10년단위)를 각각 구하여라."
   ]
  },
  {
   "cell_type": "code",
   "execution_count": 50,
   "id": "4ac3bcd3",
   "metadata": {},
   "outputs": [
    {
     "data": {
      "text/plain": [
       "(2000, 1980)"
      ]
     },
     "execution_count": 50,
     "metadata": {},
     "output_type": "execute_result"
    }
   ],
   "source": [
    "df['year_of_ten'] = df['Year_of_Release'].apply(lambda x: int(x/10)*10)\n",
    "df['year_of_ten'].value_counts().index[0], df['year_of_ten'].value_counts().index[-1]"
   ]
  },
  {
   "cell_type": "markdown",
   "id": "c3ac2e3f",
   "metadata": {},
   "source": [
    "### 플레이스테이션 플랫폼 시리즈(PS,PS2,PS3,PS4,PSV)중 장르가 Action로 발매된 게임의 총 수는?\n",
    "\n"
   ]
  },
  {
   "cell_type": "code",
   "execution_count": 56,
   "id": "2b9cb443",
   "metadata": {},
   "outputs": [
    {
     "data": {
      "text/plain": [
       "616"
      ]
     },
     "execution_count": 56,
     "metadata": {},
     "output_type": "execute_result"
    }
   ],
   "source": [
    "sum(df[df['Platform'].isin(['PS','PS2','PS3','PS4','PSV'])]['Genre']=='Action')"
   ]
  },
  {
   "cell_type": "markdown",
   "id": "c8ee493a",
   "metadata": {},
   "source": [
    "### 게임이 400개 이상 출시된 플랫폼들을 추출하여 각 플랫폼의 User_Score 평균값을 구하여 데이터프레임을 만들고 값을 내림차순으로 정리하여 출력하라"
   ]
  },
  {
   "cell_type": "code",
   "execution_count": 103,
   "id": "585e0869",
   "metadata": {},
   "outputs": [
    {
     "data": {
      "text/html": [
       "<div>\n",
       "<style scoped>\n",
       "    .dataframe tbody tr th:only-of-type {\n",
       "        vertical-align: middle;\n",
       "    }\n",
       "\n",
       "    .dataframe tbody tr th {\n",
       "        vertical-align: top;\n",
       "    }\n",
       "\n",
       "    .dataframe thead th {\n",
       "        text-align: right;\n",
       "    }\n",
       "</style>\n",
       "<table border=\"1\" class=\"dataframe\">\n",
       "  <thead>\n",
       "    <tr style=\"text-align: right;\">\n",
       "      <th></th>\n",
       "      <th>User_Score</th>\n",
       "    </tr>\n",
       "    <tr>\n",
       "      <th>Platform</th>\n",
       "      <th></th>\n",
       "    </tr>\n",
       "  </thead>\n",
       "  <tbody>\n",
       "    <tr>\n",
       "      <th>PS2</th>\n",
       "      <td>7.664386</td>\n",
       "    </tr>\n",
       "    <tr>\n",
       "      <th>XB</th>\n",
       "      <td>7.540708</td>\n",
       "    </tr>\n",
       "    <tr>\n",
       "      <th>PC</th>\n",
       "      <td>7.060369</td>\n",
       "    </tr>\n",
       "    <tr>\n",
       "      <th>DS</th>\n",
       "      <td>7.047198</td>\n",
       "    </tr>\n",
       "    <tr>\n",
       "      <th>Wii</th>\n",
       "      <td>6.903758</td>\n",
       "    </tr>\n",
       "    <tr>\n",
       "      <th>PS3</th>\n",
       "      <td>6.782705</td>\n",
       "    </tr>\n",
       "    <tr>\n",
       "      <th>X360</th>\n",
       "      <td>6.780769</td>\n",
       "    </tr>\n",
       "  </tbody>\n",
       "</table>\n",
       "</div>"
      ],
      "text/plain": [
       "          User_Score\n",
       "Platform            \n",
       "PS2         7.664386\n",
       "XB          7.540708\n",
       "PC          7.060369\n",
       "DS          7.047198\n",
       "Wii         6.903758\n",
       "PS3         6.782705\n",
       "X360        6.780769"
      ]
     },
     "execution_count": 103,
     "metadata": {},
     "output_type": "execute_result"
    }
   ],
   "source": [
    "tmp = df['Platform'].value_counts().reset_index()\n",
    "li = list(tmp[tmp['Platform']>=400]['index'])\n",
    "tmp = df[df['Platform'].isin(li)].groupby('Platform').mean()['User_Score']\n",
    "# frame 방법 1\n",
    "pd.DataFrame(tmp.sort_values(ascending=False))\n",
    "# frame 방법 2\n",
    "tmp.sort_values(ascending=False).to_frame()"
   ]
  },
  {
   "cell_type": "markdown",
   "id": "ec18d436",
   "metadata": {},
   "source": [
    "### 게임 이름에 Mario가 들어가는 게임을 3회 개발한 개발자(Developer컬럼)을 구하여라\n",
    "\n"
   ]
  },
  {
   "cell_type": "code",
   "execution_count": 137,
   "id": "75969a8f",
   "metadata": {},
   "outputs": [
    {
     "name": "stdout",
     "output_type": "stream",
     "text": [
      "['Nintendo, Nintendo Software Technology' 'Nintendo, Nd Cube']\n"
     ]
    }
   ],
   "source": [
    "tmp = df['Name'].apply(lambda x: True if 'Mario' in x else False)\n",
    "tmp = df.loc[tmp].groupby('Developer').count()['Name'].sort_values(ascending=False)\n",
    "print(tmp.loc[tmp==3].index.values)"
   ]
  },
  {
   "cell_type": "markdown",
   "id": "666eb213",
   "metadata": {},
   "source": [
    "#### str 함수를 활용한 다른 답안"
   ]
  },
  {
   "cell_type": "code",
   "execution_count": 143,
   "id": "bbed8139",
   "metadata": {},
   "outputs": [
    {
     "name": "stdout",
     "output_type": "stream",
     "text": [
      "['Nintendo, Nd Cube' 'Nintendo, Nintendo Software Technology']\n"
     ]
    }
   ],
   "source": [
    "tmp = df[df.Name.str.contains('Mario')].Developer.value_counts()\n",
    "print(tmp.loc[tmp==3].index.values)"
   ]
  },
  {
   "cell_type": "markdown",
   "id": "730dd95f",
   "metadata": {},
   "source": [
    "### PS2 플랫폼으로 출시된 게임들의 User_Score의 첨도를 구하여라\n",
    "\n"
   ]
  },
  {
   "cell_type": "code",
   "execution_count": 147,
   "id": "35f8e6a9",
   "metadata": {},
   "outputs": [
    {
     "data": {
      "text/plain": [
       "2.4920035946875965"
      ]
     },
     "execution_count": 147,
     "metadata": {},
     "output_type": "execute_result"
    }
   ],
   "source": [
    "df[df['Platform'] == 'PS2']['User_Score'].kurtosis()"
   ]
  },
  {
   "cell_type": "markdown",
   "id": "9c3e0754",
   "metadata": {},
   "source": [
    "### 각 게임별 NA_Sales,EU_Sales,JP_Sales,Other_Sales 값의 합은 Global_Sales와 동일해야한다. 소숫점 2자리 이하의 생략으로 둘의 값의 다른경우가 존재하는데, 이러한 케이스가 몇개 있는지 확인하라\n",
    "\n"
   ]
  },
  {
   "cell_type": "code",
   "execution_count": 154,
   "id": "5d4cad87",
   "metadata": {},
   "outputs": [
    {
     "data": {
      "text/plain": [
       "3636"
      ]
     },
     "execution_count": 154,
     "metadata": {},
     "output_type": "execute_result"
    }
   ],
   "source": [
    "len(df) - sum(df['Global_Sales'] == df['NA_Sales'] + df['EU_Sales'] + df['JP_Sales'] + df['Other_Sales'])"
   ]
  },
  {
   "cell_type": "markdown",
   "id": "ea0bb541",
   "metadata": {},
   "source": [
    "### User_Count컬럼의 값이 120 이상인 게임들 중에서 User_Score의 값이 9.0이상인 게임의 수를 구하여라\n",
    "\n"
   ]
  },
  {
   "cell_type": "code",
   "execution_count": 163,
   "id": "f1849a1e",
   "metadata": {},
   "outputs": [
    {
     "data": {
      "text/plain": [
       "86"
      ]
     },
     "execution_count": 163,
     "metadata": {},
     "output_type": "execute_result"
    }
   ],
   "source": [
    "sum(df[df['User_Count'] >= 120]['User_Score']>=9.0)"
   ]
  },
  {
   "cell_type": "markdown",
   "id": "fe44fd67",
   "metadata": {},
   "source": [
    "### Global_Sales컬럼의 값들을 robust스케일을 진행하고 40이상인 데이터 수를 구하여라\n",
    "\n"
   ]
  },
  {
   "cell_type": "code",
   "execution_count": 208,
   "id": "c41a9643",
   "metadata": {},
   "outputs": [
    {
     "data": {
      "text/plain": [
       "6"
      ]
     },
     "execution_count": 208,
     "metadata": {},
     "output_type": "execute_result"
    }
   ],
   "source": [
    "from sklearn.preprocessing import RobustScaler\n",
    "\n",
    "scaler = RobustScaler()\n",
    "tmp = scaler.fit_transform(df['Global_Sales'].values.reshape(-1,1))\n",
    "len(tmp[tmp>=40])"
   ]
  }
 ],
 "metadata": {
  "kernelspec": {
   "display_name": "Python 3",
   "language": "python",
   "name": "python3"
  },
  "language_info": {
   "codemirror_mode": {
    "name": "ipython",
    "version": 3
   },
   "file_extension": ".py",
   "mimetype": "text/x-python",
   "name": "python",
   "nbconvert_exporter": "python",
   "pygments_lexer": "ipython3",
   "version": "3.8.8"
  }
 },
 "nbformat": 4,
 "nbformat_minor": 5
}
